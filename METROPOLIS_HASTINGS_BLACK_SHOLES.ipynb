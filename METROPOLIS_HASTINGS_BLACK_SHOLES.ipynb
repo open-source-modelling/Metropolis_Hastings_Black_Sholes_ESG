{
 "cells": [
  {
   "cell_type": "code",
   "execution_count": 71,
   "id": "35378fe3",
   "metadata": {},
   "outputs": [],
   "source": [
    "import numpy as np\n",
    "import pandas as pd\n",
    "import matplotlib.pyplot as plt"
   ]
  },
  {
   "cell_type": "markdown",
   "id": "f50506f0",
   "metadata": {},
   "source": [
    "# Black Sholes\n"
   ]
  },
  {
   "cell_type": "markdown",
   "id": "ab457710",
   "metadata": {},
   "source": [
    "[Black–Scholes–Merton model](https://en.wikipedia.org/wiki/Black%E2%80%93Scholes_model) is a mathematical model for the dynamics of the stock market. This model assumes that the price of the underlying asset follows a [Geometric Brownian motion](https://en.wikipedia.org/wiki/Geometric_Brownian_motion). \n",
    "\n",
    "That is, the underlying asset follows the process:\n",
    "\n",
    "$$ dS(t) = \\mu S(t) + \\sigma S(t) dW(t) $$\n",
    "\n",
    "\n",
    "Where:\n",
    " - ToDo\n",
    "\n",
    "or its integral form:\n",
    "\n",
    "$$ S(t) = S(0) + \\int_0^t \\mu S(s) ds + \\int_0^t \\sigma S(s) dW(s) $$\n",
    "\n",
    "\n"
   ]
  },
  {
   "cell_type": "markdown",
   "id": "ab6b380f",
   "metadata": {},
   "source": [
    "This differential equation has a unique and stable solution:\n",
    "\n",
    "$$ S(t) = S(0) e^{\\mu - \\frac{\\sigma^2}{2}t + \\sigma W(t)} $$\n",
    "\n",
    "Where:\n",
    " - ToDo\n"
   ]
  },
  {
   "cell_type": "markdown",
   "id": "b765c36d",
   "metadata": {},
   "source": [
    "In practice, the simulation is not continuous. For two subsequent time points $t_k$ and $t_{k-1}$, the following equation holds:\n",
    "\n",
    "$$ S(t_k) = S(t_{k-1}) e^{ (\\mu - \\frac{\\sigma^2}{2})(t_k - t_{k-1}) + \\sigma (W(t_k) - W(t_{k-1}))} $$\n"
   ]
  },
  {
   "cell_type": "code",
   "execution_count": 72,
   "id": "de5e6916",
   "metadata": {},
   "outputs": [],
   "source": [
    "def simulate_Black_Scholes(S0, mu, sigma, T, dt) -> pd.DataFrame:\n",
    "    # SIMULATE_BLACK_SHOLES calculates a temporal series of stock prices using the Black Scholes log normal model and the generated Brownian motion\n",
    "    # stock_price_simulation = simulate_Black_Scholes(S0, mu, sigma, T, dt, rho)\n",
    "    #\n",
    "    # Arguments:\n",
    "    #   S0    = integer, specifying the initial value of the underlying asset\n",
    "    #   mu    = float, specifying the drift rate of the underlying asset \n",
    "    #   sigma = float, standard deviation of the underlying asset's return\n",
    "    #   T     = integer, specifying the maximum modeling time. ex. if T = 2 then modelling time will run from 0 to 2\n",
    "    #   dt    = float, specifying the length of each subinterval. ex. dt=10, then there will be 10 intervals of length 0.1 between two integers of modeling time \n",
    "    #   rho   = float, specifying the correlation coefficient of the Brownian motion. ex. rho = 0.4 means that two \n",
    "    #\n",
    "    # Returns:\n",
    "    #   stock_price_simulation = N x 2 pandas DataFrame where index is modeling time and values are a realisation of the uderlying's price\n",
    "    #\n",
    "    # Example:\n",
    "    #   Model the price of a stock whitch is worth today 100. The market has a future annualized risk free rate of 5% and an annualized volatility of 30%. The user is interested in a price projection for the next 10 years in increments of 6 months (0.5 years)\n",
    "    #   import pandas as pd\n",
    "    #   import numpy as np\n",
    "    #   simulate_Black_Scholes(100, 0.05, 0.3, 10, 0.5)   \n",
    "    #   [out] = Time    Stock Price                \n",
    "    #       0.0    100.000000\n",
    "    #       0.5    131.721286\n",
    "    #       1.0    124.924654\n",
    "    #       1.5    209.302935\n",
    "    #       2.0    222.085955\n",
    "    #       2.5    208.085678\n",
    "    #       3.0    165.550253\n",
    "    #       3.5    239.512165\n",
    "    #       4.0    176.886669\n",
    "    #       4.5    148.687363\n",
    "    #       5.0    181.235262\n",
    "    #       5.5    164.280753\n",
    "    #       6.0    172.861576\n",
    "    #       6.5    170.698562\n",
    "    #       7.0    141.613940\n",
    "    #       7.5    121.070316\n",
    "    #       8.0    116.508183\n",
    "    #       8.5    104.524616\n",
    "    #       9.0    146.124924\n",
    "    #       9.5    202.368581\n",
    "    #       10.0   262.282989\n",
    "    # For more information see https://en.wikipedia.org/wiki/Black%E2%80%93Scholes_model\n",
    "    \n",
    "    N = int(T / dt) # number of subintervals of length 1/dt between 0 and max modeling time T\n",
    "   \n",
    "    time, delta_t = np.linspace(0, T, num = N+1, retstep = True)\n",
    "    S = np.exp((mu - sigma ** 2 / 2) * dt + sigma * np.sqrt(dt)* np.random.normal(0, 1 , size= N))\n",
    "    S = np.hstack([1, S])\n",
    "    dict = {'Time' : time, 'Stock Price' : S0* S.cumprod(axis=0)}\n",
    "\n",
    "    stock_price_simulation = pd.DataFrame.from_dict(data = dict)\n",
    "    stock_price_simulation.set_index('Time', inplace = True)\n",
    "\n",
    "    return stock_price_simulation"
   ]
  },
  {
   "cell_type": "markdown",
   "id": "ece4cea7",
   "metadata": {},
   "source": [
    "# ESG simulation\n",
    "\n",
    "Economic Scenario Generators simulate potential future paths of financial indicators such as interest rates, indices and spreads. Most of them do this by assuming that the economy behaves according to a certain stochastic process and present multiple sample paths of this process.\n",
    "\n",
    "To simulate this, the code bellow generates 1000 scenarios from the Black-Sholes-Merton model. Each scenario simulates 50 years in annual increments."
   ]
  },
  {
   "cell_type": "code",
   "execution_count": 73,
   "id": "a425f4dd",
   "metadata": {},
   "outputs": [],
   "source": [
    "nScen = 1000\n",
    "nYear = 50"
   ]
  },
  {
   "cell_type": "markdown",
   "id": "faf86a99",
   "metadata": {},
   "source": [
    "BSM model takes 2 paramters. The average return $\\mu$ and the annual volatility $\\sigma$. This example uses the numbers obtained from XXX."
   ]
  },
  {
   "cell_type": "code",
   "execution_count": 74,
   "id": "a70dbab8",
   "metadata": {},
   "outputs": [],
   "source": [
    "mu = 0.05 #0.106  \n",
    "sigma = 0.3#0.181 "
   ]
  },
  {
   "cell_type": "code",
   "execution_count": 75,
   "id": "ffe533ba",
   "metadata": {},
   "outputs": [],
   "source": [
    "sample_paths = pd.DataFrame(simulate_Black_Scholes(1, mu, sigma, nYear, 1).values, columns=[\"Scenario0\"])\n",
    "\n",
    "for iStep in range(1,nScen):\n",
    "    name = \"Scenario\"+ str(iStep)\n",
    "    sample = pd.DataFrame(simulate_Black_Scholes(1, mu, sigma, nYear, 1).values,columns=[name])\n",
    "    sample_paths = sample_paths.join(sample)"
   ]
  },
  {
   "cell_type": "markdown",
   "id": "edce7dd9",
   "metadata": {},
   "source": [
    "By taking the logarithm of both sides and rearanging the terms, the equation transforms:\n",
    "\n",
    "$$ ln(S(t_k)) - ln(S(t_{k-1})) = (\\mu - \\frac{\\sigma^2}{2})(t_k - t_{k-1}) + \\sigma (W(t_k) - W(t_{k-1})) $$"
   ]
  },
  {
   "cell_type": "markdown",
   "id": "faf7be38",
   "metadata": {},
   "source": [
    "From the equation above, the distribution of increments can be infered:\n",
    "\n",
    "$$ ln(S(t_k)) - ln(S(t_{k-1})) \\stackrel{d}{\\sim} N\\big((\\mu - \\frac{\\sigma^2}{2})(t_k - t_{k-1}), \\sigma (t_k - t_{k-1})\\big) $$"
   ]
  },
  {
   "cell_type": "markdown",
   "id": "a4bba276",
   "metadata": {},
   "source": [
    "# Log likelihood\n",
    "\n",
    "The logarithmic increments follow a normal distribution. For convenience, the increment between $t_k$ and $t_{k-1}$ is defined as $x(t_k) = ln(S(t_k)) - ln(S(t_{k-1}))$. The likelihood function of a single increment is:\n",
    "\n",
    "$$ f_\\theta (x(t_k)) = \\frac{1}{\\sigma \\sqrt{2 \\pi (t_k - t_{k-1})}} e^{\\frac{[x(t_k) - (\\mu - \\frac{\\sigma^2}{2})(t_k - t_{k-1})]^2}{2\\sigma^2 (t_k - t_{k-1})}}  $$\n",
    "\n",
    "\n",
    "The log likelihood for the entire scenario is therefore:\n",
    "\n",
    "$$ L(\\theta) = \\sum_{k=1}^n ln(f_\\theta(x(t_k)))$$\n"
   ]
  },
  {
   "cell_type": "markdown",
   "id": "b596865f",
   "metadata": {},
   "source": [
    "$$ L(\\theta) = \\sum_{k=1}^n ln\\big(\\frac{1}{\\sigma \\sqrt{2 \\pi (t_k - t_{k-1})}} e^{-\\frac{[x(t_k) - (\\mu - \\frac{\\sigma^2}{2})(t_k - t_{k-1})]^2}{2\\sigma^2 (t_k - t_{k-1})}}\\big) = $$\n",
    "\n",
    "$$= \\sum_{k=1}^n -ln(\\sigma) -\\frac{1}{2}ln(2 \\pi (t_k - t_{k-1})) -\\frac{[x(t_k) - (\\mu - \\frac{\\sigma^2}{2})(t_k - t_{k-1})]^2}{2\\sigma^2 (t_k - t_{k-1})}$$"
   ]
  },
  {
   "cell_type": "markdown",
   "id": "1a5db486",
   "metadata": {},
   "source": [
    "$$= -n ln(\\sigma) -\\frac{n}{2}ln(2 \\pi)  -\\frac{1}{2}\\sum_{k=1}^n  ln(t_k - t_{k-1}) -\\sum_{k=1}^n\\frac{[x(t_k) - (\\mu - \\frac{\\sigma^2}{2})(t_k - t_{k-1})]^2}{2\\sigma^2 (t_k - t_{k-1})}$$"
   ]
  },
  {
   "cell_type": "markdown",
   "id": "859b501e",
   "metadata": {},
   "source": [
    "# Metropolis Hastings algorithm\n",
    "\n",
    "To calculate the most likely parameters used to generate the scenarios, the Maximum Likelihood method is normaly used.\n",
    "This method could be used in this case since the normal distribution has a well known solution. However there are cases where the maximum likelihood estimator does not have a closed solution. \n",
    "\n",
    "What is required is to know a function that is able to tell, how much more likely is that the observed data came from one set of parameters as opposed to another set.\n",
    "\n",
    "A possible solution to this is to use the [Metropolis Hastings](https://en.wikipedia.org/wiki/Metropolis%E2%80%93Hastings_algorithm) algorithm. To directly quote Wikipedia:\n",
    "\n",
    "In statistics and statistical physics, the Metropolis–Hastings algorithm is a Markov chain Monte Carlo (MCMC) method for obtaining a sequence of random samples from a probability distribution from which direct sampling is difficult. This sequence can be used to approximate the distribution.\n",
    "\n",
    "<b> The distribution of interest is the distribution of most likely parameter combinations.</b>  \n",
    "\n",
    "If the likelihood function is corectly implemented, the distribution should peak at the parameter set, that was set up in the ESG run.\n"
   ]
  },
  {
   "cell_type": "code",
   "execution_count": 89,
   "id": "168358c0",
   "metadata": {},
   "outputs": [],
   "source": [
    "# Prior distribution\n",
    "prior_mean_1 = 0.2\n",
    "prior_mean_2 = 0.3\n",
    "prior_sd_1 = np.sqrt(0.2)\n",
    "prior_sd_2 = np.sqrt(0.2)\n",
    "\n",
    "# Proposal distribution\n",
    "proposal_sd_1 = np.sqrt(0.5)\n",
    "proposal_sd_2 = np.sqrt(0.2)\n",
    "\n",
    "data1 = np.log(sample_paths)\n",
    "data = data1.diff()[1:]"
   ]
  },
  {
   "cell_type": "markdown",
   "id": "29813f4d",
   "metadata": {},
   "source": [
    "Normal distribution; log likelihood function"
   ]
  },
  {
   "cell_type": "code",
   "execution_count": 90,
   "id": "c6dbf4a1",
   "metadata": {},
   "outputs": [],
   "source": [
    "def lnorm_lf(mu,sigma,x):\n",
    "# Log likelihood of a vector from the normal distribution\n",
    "    n = x.size\n",
    "    \n",
    "    out = -n/2 * np.log(2*np.pi)-n*np.log(sigma) -1/(2 * np.power(sigma,2))*np.sum((x-(mu-sigma**2 /2))**2)\n",
    "    return out\n"
   ]
  },
  {
   "cell_type": "markdown",
   "id": "159b884a",
   "metadata": {},
   "source": [
    "Normal distribution log likelihood function for the prior distribution"
   ]
  },
  {
   "cell_type": "code",
   "execution_count": 78,
   "id": "406a6b8c",
   "metadata": {},
   "outputs": [],
   "source": [
    "def norm_lf(mu,sigma,x):\n",
    "# Log likelihood of the normal distribution\n",
    "    n = 1\n",
    "    #n = x.size\n",
    "    out = -n/2*np.log(2*np.pi)-n*np.log(sigma)-1/2 * 1/np.power(sigma,2)*(x-mu)**2\n",
    "    return out"
   ]
  },
  {
   "cell_type": "code",
   "execution_count": 80,
   "id": "93892bf4",
   "metadata": {},
   "outputs": [],
   "source": [
    "NSteps = 100000\n",
    "result = np.zeros((NSteps,2))\n",
    "\n",
    "# Starting position\n",
    "muhatminus1 = 0.05\n",
    "sigmahatminus1 = 0.2\n",
    "\n",
    "# Acceptance vector\n",
    "u = np.log(np.random.uniform(0,1,NSteps))\n",
    "\n",
    "for step in range(0,NSteps):\n",
    "    muhat = np.random.normal(muhatminus1,proposal_sd_1)\n",
    "    sigmahat = np.random.normal(sigmahatminus1,proposal_sd_2)\n",
    "\n",
    "    if sigmahat<0:\n",
    "        sigmahat = -sigmahat\n",
    "\n",
    "    poslike = lnorm_lf(muhat,sigmahat,data.values)\n",
    "    neglike = lnorm_lf(muhatminus1,sigmahatminus1,data.values)\n",
    "        \n",
    "    poslognorm = poslike + norm_lf(prior_mean_1,prior_sd_1,muhat)+ norm_lf(prior_mean_2,prior_sd_2,sigmahat)\n",
    "    neglognorm = neglike + norm_lf(prior_mean_1,prior_sd_1,muhatminus1) + norm_lf(prior_mean_2,prior_sd_2,sigmahatminus1)    \n",
    "    \n",
    "    alpha = poslognorm - neglognorm\n",
    "#    u = np.log(np.random.uniform(0,1,1))\n",
    "\n",
    "    if u[step]>alpha:\n",
    "        result[step,:] = [muhatminus1, sigmahatminus1]\n",
    "\n",
    "    else:\n",
    "        result[step,:] = [muhat, sigmahat]\n",
    "        muhatminus1 = muhat\n",
    "        sigmahatminus1 = sigmahat\n"
   ]
  },
  {
   "cell_type": "code",
   "execution_count": 81,
   "id": "b82c66cc",
   "metadata": {},
   "outputs": [],
   "source": [
    "pdResult = pd.DataFrame(result,columns = ['mu','sigma'])"
   ]
  },
  {
   "cell_type": "code",
   "execution_count": 84,
   "id": "f1e9c619",
   "metadata": {},
   "outputs": [],
   "source": [
    "# Exclude 25% of samples to only include the samples with maximum likelihood and to mitigate  the effect of initial conditions\n",
    "RealStart = round(nScen*0.25)"
   ]
  },
  {
   "cell_type": "code",
   "execution_count": 85,
   "id": "141d588a",
   "metadata": {
    "scrolled": true
   },
   "outputs": [
    {
     "data": {
      "text/plain": [
       "(array([  167.,     0.,     0.,     0.,     0.,     0.,     0.,     0.,\n",
       "            0., 16569.,     0., 25710.,     0.,     0., 57304.]),\n",
       " array([0.28670754, 0.28775091, 0.28879429, 0.28983766, 0.29088103,\n",
       "        0.29192441, 0.29296778, 0.29401115, 0.29505453, 0.2960979 ,\n",
       "        0.29714127, 0.29818465, 0.29922802, 0.30027139, 0.30131477,\n",
       "        0.30235814]),\n",
       " <BarContainer object of 15 artists>)"
      ]
     },
     "execution_count": 85,
     "metadata": {},
     "output_type": "execute_result"
    },
    {
     "data": {
      "image/png": "[encoded data removed]",
      "text/plain": [
       "<Figure size 432x288 with 2 Axes>"
      ]
     },
     "metadata": {
      "needs_background": "light"
     },
     "output_type": "display_data"
    }
   ],
   "source": [
    "fig, axs = plt.subplots(1, 2, sharey=True, tight_layout=True)\n",
    "\n",
    "# We can set the number of bins with the *bins* keyword argument.\n",
    "axs[0].hist(pdResult['mu'][RealStart:], bins=15)\n",
    "axs[1].hist(pdResult['sigma'][RealStart:], bins=15)"
   ]
  },
  {
   "cell_type": "code",
   "execution_count": 86,
   "id": "632cbd46",
   "metadata": {},
   "outputs": [],
   "source": [
    "estimatedParam = pdResult[RealStart:].mean(axis=0)"
   ]
  },
  {
   "cell_type": "code",
   "execution_count": 87,
   "id": "cb1f87e9",
   "metadata": {},
   "outputs": [
    {
     "name": "stdout",
     "output_type": "stream",
     "text": [
      "0.007294373357070311\n"
     ]
    }
   ],
   "source": [
    "print((mu-estimatedParam[\"mu\"])/mu)"
   ]
  },
  {
   "cell_type": "code",
   "execution_count": 88,
   "id": "5f230f93",
   "metadata": {},
   "outputs": [
    {
     "name": "stdout",
     "output_type": "stream",
     "text": [
      "-0.0006373531026944897\n"
     ]
    }
   ],
   "source": [
    "print((sigma-estimatedParam[\"sigma\"])/sigma)"
   ]
  }
 ],
 "metadata": {
  "kernelspec": {
   "display_name": "Python 3 (ipykernel)",
   "language": "python",
   "name": "python3"
  },
  "language_info": {
   "codemirror_mode": {
    "name": "ipython",
    "version": 3
   },
   "file_extension": ".py",
   "mimetype": "text/x-python",
   "name": "python",
   "nbconvert_exporter": "python",
   "pygments_lexer": "ipython3",
   "version": "3.9.7"
  }
 },
 "nbformat": 4,
 "nbformat_minor": 5
}
