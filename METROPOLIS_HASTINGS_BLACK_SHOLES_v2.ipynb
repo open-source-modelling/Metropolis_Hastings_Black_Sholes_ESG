{
 "cells": [
  {
   "cell_type": "code",
   "execution_count": 119,
   "id": "35378fe3",
   "metadata": {},
   "outputs": [],
   "source": [
    "import numpy as np\n",
    "import pandas as pd\n",
    "import matplotlib.pyplot as plt\n",
    "\n",
    "from matplotlib import colors\n",
    "from matplotlib.ticker import PercentFormatter"
   ]
  },
  {
   "cell_type": "markdown",
   "id": "f50506f0",
   "metadata": {},
   "source": [
    "Generate Black Sholes"
   ]
  },
  {
   "cell_type": "markdown",
   "id": "ab6b380f",
   "metadata": {},
   "source": []
  },
  {
   "cell_type": "code",
   "execution_count": 120,
   "id": "de5e6916",
   "metadata": {},
   "outputs": [],
   "source": [
    "def simulate_Black_Scholes(S0, mu, sigma, T, dt) -> pd.DataFrame:\n",
    "    # SIMULATE_BLACK_SHOLES calculates a temporal series of stock prices using the Black Scholes log normal model and the generated Brownian motion\n",
    "    # stock_price_simulation = simulate_Black_Scholes(S0, mu, sigma, T, dt, rho)\n",
    "    #\n",
    "    # Arguments:\n",
    "    #   S0    = integer, specifying the initial value of the underlying asset\n",
    "    #   mu    = float, specifying the drift rate of the underlying asset \n",
    "    #   sigma = float, standard deviation of the underlying asset's return\n",
    "    #   T     = integer, specifying the maximum modeling time. ex. if T = 2 then modelling time will run from 0 to 2\n",
    "    #   dt    = float, specifying the length of each subinterval. ex. dt=10, then there will be 10 intervals of length 0.1 between two integers of modeling time \n",
    "    #   rho   = float, specifying the correlation coefficient of the Brownian motion. ex. rho = 0.4 means that two \n",
    "    #\n",
    "    # Returns:\n",
    "    #   stock_price_simulation = N x 2 pandas DataFrame where index is modeling time and values are a realisation of the uderlying's price\n",
    "    #\n",
    "    # Example:\n",
    "    #   Model the price of a stock whitch is worth today 100. The market has a future annualized risk free rate of 5% and an annualized volatility of 30%. The user is interested in a price projection for the next 10 years in increments of 6 months (0.5 years)\n",
    "    #   import pandas as pd\n",
    "    #   import numpy as np\n",
    "    #   simulate_Black_Scholes(100, 0.05, 0.3, 10, 0.5)   \n",
    "    #   [out] = Time    Stock Price                \n",
    "    #       0.0    100.000000\n",
    "    #       0.5    131.721286\n",
    "    #       1.0    124.924654\n",
    "    #       1.5    209.302935\n",
    "    #       2.0    222.085955\n",
    "    #       2.5    208.085678\n",
    "    #       3.0    165.550253\n",
    "    #       3.5    239.512165\n",
    "    #       4.0    176.886669\n",
    "    #       4.5    148.687363\n",
    "    #       5.0    181.235262\n",
    "    #       5.5    164.280753\n",
    "    #       6.0    172.861576\n",
    "    #       6.5    170.698562\n",
    "    #       7.0    141.613940\n",
    "    #       7.5    121.070316\n",
    "    #       8.0    116.508183\n",
    "    #       8.5    104.524616\n",
    "    #       9.0    146.124924\n",
    "    #       9.5    202.368581\n",
    "    #       10.0   262.282989\n",
    "    # For more information see https://en.wikipedia.org/wiki/Black%E2%80%93Scholes_model\n",
    "    \n",
    "    N = int(T / dt) # number of subintervals of length 1/dt between 0 and max modeling time T\n",
    "   \n",
    "    time, delta_t = np.linspace(0, T, num = N+1, retstep = True)\n",
    "    S = np.exp((mu - sigma ** 2 / 2) * dt + sigma * np.sqrt(dt)* np.random.normal(0, 1 , size= N))\n",
    "    S = np.hstack([1, S])\n",
    "    dict = {'Time' : time, 'Stock Price' : S0* S.cumprod(axis=0)}\n",
    "\n",
    "    stock_price_simulation = pd.DataFrame.from_dict(data = dict)\n",
    "    stock_price_simulation.set_index('Time', inplace = True)\n",
    "\n",
    "    return stock_price_simulation"
   ]
  },
  {
   "cell_type": "code",
   "execution_count": 121,
   "id": "ffe533ba",
   "metadata": {},
   "outputs": [],
   "source": [
    "mu = 0.126 # 0.106\n",
    "sigma = 0.221 # 0.181\n",
    "nScen = 1000\n",
    "sample_paths = pd.DataFrame(simulate_Black_Scholes(1, mu, sigma, 50, 1).values, columns=[\"Scenario0\"])\n",
    "\n",
    "for iStep in range(1,nScen):\n",
    "    name = \"Scenario\"+ str(iStep)\n",
    "    sample = pd.DataFrame(simulate_Black_Scholes(1, mu, sigma, 50, 1).values,columns=[name])\n",
    "    sample_paths = sample_paths.join(sample)"
   ]
  },
  {
   "cell_type": "code",
   "execution_count": 122,
   "id": "168358c0",
   "metadata": {},
   "outputs": [],
   "source": [
    "# Prior distribution\n",
    "prior_mean_1 = 0.2\n",
    "prior_mean_2 = 0.3\n",
    "prior_sd_1 = np.sqrt(0.2)\n",
    "prior_sd_2 = np.sqrt(0.2)\n",
    "\n",
    "# Proposal distribution\n",
    "proposal_sd_1 = np.sqrt(0.5)\n",
    "proposal_sd_2 = np.sqrt(0.2)\n",
    "\n",
    "data1 = np.log(sample_paths)\n",
    "data = data1.diff()[1:]"
   ]
  },
  {
   "cell_type": "markdown",
   "id": "29813f4d",
   "metadata": {},
   "source": [
    "Normal distribution; log likelihood function"
   ]
  },
  {
   "cell_type": "code",
   "execution_count": 123,
   "id": "c6dbf4a1",
   "metadata": {},
   "outputs": [],
   "source": [
    "def lnorm_lf(mu,sigma,x,level):\n",
    "# Log likelihood of a vector from the normal distribution\n",
    "    n = x.size\n",
    "    out = -n/2 * np.log(2*np.pi)-n*np.log(sigma) -1/(2 * np.power(sigma,2))*sum((x-(mu-sigma**2 /2))**2)\n",
    "\n",
    "    return out\n"
   ]
  },
  {
   "cell_type": "markdown",
   "id": "159b884a",
   "metadata": {},
   "source": [
    "Normal distribution log likelihood function"
   ]
  },
  {
   "cell_type": "code",
   "execution_count": 124,
   "id": "406a6b8c",
   "metadata": {},
   "outputs": [],
   "source": [
    "def norm_lf(mu,sigma,x):\n",
    "# Log likelihood of the normal distribution\n",
    "    n = 1\n",
    "    #n = x.size\n",
    "    out = -n/2*np.log(2*np.pi)-n*np.log(sigma)-1/2 * 1/np.power(sigma,2)*(x-mu)**2\n",
    "    return out"
   ]
  },
  {
   "cell_type": "code",
   "execution_count": 125,
   "id": "93892bf4",
   "metadata": {},
   "outputs": [],
   "source": [
    "NSteps = 10000\n",
    "result = np.zeros((NSteps,2))\n",
    "\n",
    "# Starting position\n",
    "muhatminus1 = 0.05\n",
    "sigmahatminus1 = 0.2\n",
    "\n",
    "for step in range(0,NSteps):\n",
    "    muhat = np.random.normal(muhatminus1,proposal_sd_1)\n",
    "    sigmahat = np.random.normal(sigmahatminus1,proposal_sd_2)\n",
    "\n",
    "    if sigmahat<0:\n",
    "        sigmahat = -sigmahat\n",
    "\n",
    "    poslike = 0\n",
    "    neglike = 0\n",
    "    for iScen in range(0,nScen):\n",
    "        name = \"Scenario\"+str(iScen)\n",
    "        path = data[name].values\n",
    "    \n",
    "        poslike += lnorm_lf(muhat,sigmahat,path,sample_path[1:])\n",
    "        neglike += lnorm_lf(muhatminus1,sigmahatminus1,path,sample_path[1:])\n",
    "        \n",
    "    poslognorm = poslike + norm_lf(prior_mean_1,prior_sd_1,muhat)+ norm_lf(prior_mean_2,prior_sd_2,sigmahat)\n",
    "    neglognorm = neglike + norm_lf(prior_mean_1,prior_sd_1,muhatminus1) + norm_lf(prior_mean_2,prior_sd_2,sigmahatminus1)    \n",
    "    \n",
    "    alpha = poslognorm - neglognorm\n",
    "    u = np.log(np.random.uniform(0,1,1))\n",
    "\n",
    "    if u[0]>alpha:\n",
    "        result[step,:] = [muhatminus1, sigmahatminus1]\n",
    "\n",
    "    else:\n",
    "        result[step,:] = [muhat, sigmahat]\n",
    "        muhatminus1 = muhat\n",
    "        sigmahatminus1 = sigmahat\n"
   ]
  },
  {
   "cell_type": "code",
   "execution_count": 126,
   "id": "b82c66cc",
   "metadata": {},
   "outputs": [],
   "source": [
    "pdResult = pd.DataFrame(result,columns = ['mu','sigma'])"
   ]
  },
  {
   "cell_type": "code",
   "execution_count": 127,
   "id": "0acf4270",
   "metadata": {},
   "outputs": [
    {
     "name": "stdout",
     "output_type": "stream",
     "text": [
      "0       0.050000\n",
      "1       0.050000\n",
      "2       0.050000\n",
      "3       0.050000\n",
      "4       0.050000\n",
      "          ...   \n",
      "9995    0.127026\n",
      "9996    0.127026\n",
      "9997    0.127026\n",
      "9998    0.127026\n",
      "9999    0.127026\n",
      "Name: mu, Length: 10000, dtype: float64\n"
     ]
    }
   ],
   "source": [
    "print(pdResult['mu'])"
   ]
  },
  {
   "cell_type": "code",
   "execution_count": 128,
   "id": "c4b20c50",
   "metadata": {},
   "outputs": [
    {
     "name": "stdout",
     "output_type": "stream",
     "text": [
      "0       0.200000\n",
      "1       0.200000\n",
      "2       0.200000\n",
      "3       0.200000\n",
      "4       0.200000\n",
      "          ...   \n",
      "9995    0.222224\n",
      "9996    0.222224\n",
      "9997    0.222224\n",
      "9998    0.222224\n",
      "9999    0.222224\n",
      "Name: sigma, Length: 10000, dtype: float64\n"
     ]
    }
   ],
   "source": [
    "print(pdResult['sigma'])"
   ]
  },
  {
   "cell_type": "code",
   "execution_count": 129,
   "id": "f1e9c619",
   "metadata": {},
   "outputs": [],
   "source": [
    "# Exclude 95% of samples to only include the samples with maximum likelihood and to mitigate  the effect of initial conditions\n",
    "\n",
    "RealStart = round(nScen*0.95)\n"
   ]
  },
  {
   "cell_type": "code",
   "execution_count": 130,
   "id": "141d588a",
   "metadata": {
    "scrolled": true
   },
   "outputs": [
    {
     "data": {
      "text/plain": [
       "(array([ 357.,    0.,    0.,    0.,    0.,    0.,    0.,    0.,    0.,\n",
       "           0., 7667.,    0.,    0.,    0., 1026.]),\n",
       " array([0.21803662, 0.2183158 , 0.21859498, 0.21887417, 0.21915335,\n",
       "        0.21943254, 0.21971172, 0.21999091, 0.22027009, 0.22054927,\n",
       "        0.22082846, 0.22110764, 0.22138683, 0.22166601, 0.2219452 ,\n",
       "        0.22222438]),\n",
       " <BarContainer object of 15 artists>)"
      ]
     },
     "execution_count": 130,
     "metadata": {},
     "output_type": "execute_result"
    },
    {
     "data": {
      "image/png": "[encoded data removed]",
      "text/plain": [
       "<Figure size 432x288 with 2 Axes>"
      ]
     },
     "metadata": {
      "needs_background": "light"
     },
     "output_type": "display_data"
    }
   ],
   "source": [
    "fig, axs = plt.subplots(1, 2, sharey=True, tight_layout=True)\n",
    "\n",
    "# We can set the number of bins with the *bins* keyword argument.\n",
    "axs[0].hist(pdResult['mu'][RealStart:], bins=15)\n",
    "axs[1].hist(pdResult['sigma'][RealStart:], bins=15)"
   ]
  },
  {
   "cell_type": "code",
   "execution_count": 131,
   "id": "632cbd46",
   "metadata": {},
   "outputs": [
    {
     "data": {
      "text/plain": [
       "mu       0.125544\n",
       "sigma    0.220992\n",
       "dtype: float64"
      ]
     },
     "execution_count": 131,
     "metadata": {},
     "output_type": "execute_result"
    }
   ],
   "source": [
    "pdResult[RealStart:].mean(axis=0)"
   ]
  },
  {
   "cell_type": "code",
   "execution_count": 132,
   "id": "606f8f60",
   "metadata": {},
   "outputs": [
    {
     "data": {
      "text/plain": [
       "mu       0.125119\n",
       "sigma    0.220964\n",
       "dtype: float64"
      ]
     },
     "execution_count": 132,
     "metadata": {},
     "output_type": "execute_result"
    }
   ],
   "source": [
    "pdResult[RealStart:].median(axis=0)"
   ]
  }
 ],
 "metadata": {
  "kernelspec": {
   "display_name": "Python 3 (ipykernel)",
   "language": "python",
   "name": "python3"
  },
  "language_info": {
   "codemirror_mode": {
    "name": "ipython",
    "version": 3
   },
   "file_extension": ".py",
   "mimetype": "text/x-python",
   "name": "python",
   "nbconvert_exporter": "python",
   "pygments_lexer": "ipython3",
   "version": "3.9.7"
  }
 },
 "nbformat": 4,
 "nbformat_minor": 5
}
